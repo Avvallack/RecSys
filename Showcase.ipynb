{
 "cells": [
  {
   "cell_type": "code",
   "execution_count": 1,
   "metadata": {},
   "outputs": [],
   "source": [
    "from data_processing import *\n",
    "from recommenders import *\n",
    "from metrics import evaluate_model"
   ]
  },
  {
   "cell_type": "markdown",
   "metadata": {},
   "source": [
    "# Data preparation"
   ]
  },
  {
   "cell_type": "code",
   "execution_count": 2,
   "metadata": {},
   "outputs": [],
   "source": [
    "zip_file = load_data()\n",
    "raw_orders, raw_order_product_train, raw_order_product_test = raw_set_preparation(zip_file)\n",
    "train_set_ratings, test_set_prepared = train_test_preparation(raw_orders, \n",
    "                                                              raw_order_product_train, \n",
    "                                                              raw_order_product_test)"
   ]
  },
  {
   "cell_type": "markdown",
   "metadata": {},
   "source": [
    "# Most popular Recommender"
   ]
  },
  {
   "cell_type": "code",
   "execution_count": 3,
   "metadata": {},
   "outputs": [
    {
     "name": "stdout",
     "output_type": "stream",
     "text": [
      "hit_rate@10: 0.457\n",
      "precision_at_k@10: 0.073\n",
      "recall_at_k@10: 0.070\n",
      "average_precision_at_k@10: 0.220\n",
      "ndcg_at_k@10: 0.087\n"
     ]
    }
   ],
   "source": [
    "mpr = MostPopularRecommender()\n",
    "mpr.fit(train_set_ratings)\n",
    "mpr_prediction = mpr.predict(test_set_prepared)\n",
    "evaluate_model(test_set_prepared, mpr_prediction)"
   ]
  },
  {
   "cell_type": "markdown",
   "metadata": {},
   "source": [
    "# SVD Decomposition"
   ]
  },
  {
   "cell_type": "code",
   "execution_count": 12,
   "metadata": {},
   "outputs": [
    {
     "output_type": "stream",
     "name": "stdout",
     "text": [
      "Wall time: 3min 30s\n"
     ]
    }
   ],
   "source": [
    "%%time\n",
    "svd = TruncatedSVDRecommender()\n",
    "svd.fit(train_set_ratings)"
   ]
  },
  {
   "cell_type": "code",
   "execution_count": 13,
   "metadata": {},
   "outputs": [
    {
     "output_type": "stream",
     "name": "stdout",
     "text": [
      "hit_rate@10: 0.741\n",
      "precision_at_k@10: 0.171\n",
      "recall_at_k@10: 0.199\n",
      "average_precision_at_k@10: 0.439\n",
      "ndcg_at_k@10: 0.211\n"
     ]
    }
   ],
   "source": [
    "svd_prediction = svd.predict(test_set_prepared, batch_size=10000)\n",
    "evaluate_model(test_set_prepared, svd_prediction)"
   ]
  },
  {
   "cell_type": "markdown",
   "metadata": {},
   "source": [
    "# Alternate Least Squares"
   ]
  },
  {
   "cell_type": "code",
   "execution_count": 17,
   "metadata": {},
   "outputs": [
    {
     "output_type": "stream",
     "name": "stderr",
     "text": [
      "100%|██████████| 15/15 [03:19<00:00, 13.28s/it]\n",
      "hit_rate@10: 0.665\n",
      "precision_at_k@10: 0.134\n",
      "recall_at_k@10: 0.170\n",
      "average_precision_at_k@10: 0.312\n",
      "ndcg_at_k@10: 0.150\n"
     ]
    }
   ],
   "source": [
    "als = ALSRecommender()\n",
    "als.fit(train_set_ratings)\n",
    "als_prediction = als.predict(test_set_prepared)\n",
    "evaluate_model(test_set_prepared, als_prediction)"
   ]
  },
  {
   "cell_type": "markdown",
   "metadata": {},
   "source": [
    "# Stratify Most Popular"
   ]
  },
  {
   "cell_type": "code",
   "execution_count": 3,
   "metadata": {},
   "outputs": [],
   "source": [
    "starspace_prepared = starspace_preparation(raw_orders, raw_order_product_train)"
   ]
  },
  {
   "cell_type": "code",
   "execution_count": 4,
   "metadata": {},
   "outputs": [
    {
     "name": "stdout",
     "output_type": "stream",
     "text": [
      "Starspace is already installed\n"
     ]
    },
    {
     "name": "stderr",
     "output_type": "stream",
     "text": [
      "/Users/avvallack/PycharmProjects/RecSys/venv/lib/python3.8/site-packages/IPython/core/interactiveshell.py:3337: DtypeWarning: Columns (0) have mixed types.Specify dtype option on import or set low_memory=False.\n",
      "  if (await self.run_code(code, result,  async_=asy)):\n"
     ]
    },
    {
     "data": {
      "application/vnd.jupyter.widget-view+json": {
       "model_id": "d862b36d2023451d8fa7a603e20798a1",
       "version_major": 2,
       "version_minor": 0
      },
      "text/plain": [
       "HBox(children=(HTML(value=''), FloatProgress(value=0.0, max=500.0), HTML(value='')))"
      ]
     },
     "metadata": {},
     "output_type": "display_data"
    },
    {
     "name": "stdout",
     "output_type": "stream",
     "text": [
      "\n"
     ]
    },
    {
     "data": {
      "application/vnd.jupyter.widget-view+json": {
       "model_id": "2f747844c05f4b7b8094a20eaaaeedb5",
       "version_major": 2,
       "version_minor": 0
      },
      "text/plain": [
       "HBox(children=(HTML(value=''), FloatProgress(value=0.0, max=500.0), HTML(value='')))"
      ]
     },
     "metadata": {},
     "output_type": "display_data"
    },
    {
     "name": "stdout",
     "output_type": "stream",
     "text": [
      "\n",
      "hit_rate@10: 0.560\n",
      "precision_at_k@10: 0.099\n",
      "recall_at_k@10: 0.111\n",
      "average_precision_at_k@10: 0.314\n",
      "ndcg_at_k@10: 0.126\n"
     ]
    }
   ],
   "source": [
    "stratify_mpr = StratifyMostPopularRecommender()\n",
    "stratify_mpr.fit(train_set_ratings, starspace_df=starspace_prepared)\n",
    "stratify_mpr_prediction =stratify_mpr.predict(test_set_prepared)\n",
    "evaluate_model(test_set_prepared, stratify_mpr_prediction)"
   ]
  },
  {
   "cell_type": "markdown",
   "metadata": {},
   "source": [
    "# King of the hill ensemble\n",
    "This approach uses a lot of pretrained values:\n",
    "- predictions of each model on validation set and on full train set\n",
    "- vector representations of users from starspace training\n",
    "\n",
    "To train your own model consider refactoring of these class"
   ]
  },
  {
   "cell_type": "code",
   "execution_count": 3,
   "metadata": {},
   "outputs": [],
   "source": [
    "train_rates, valid_set = train_validation_split(raw_orders, raw_order_product_train)"
   ]
  },
  {
   "cell_type": "code",
   "execution_count": 4,
   "metadata": {},
   "outputs": [
    {
     "output_type": "display_data",
     "data": {
      "text/plain": "HBox(children=(FloatProgress(value=0.0, max=206209.0), HTML(value='')))",
      "application/vnd.jupyter.widget-view+json": {
       "version_major": 2,
       "version_minor": 0,
       "model_id": "e89493b199634ef89b71388d87401ff2"
      }
     },
     "metadata": {}
    },
    {
     "output_type": "stream",
     "name": "stdout",
     "text": [
      "\n",
      "Training until validation scores don't improve for 5 rounds\n",
      "[4]\tvalid_0's multi_logloss: 0.709875\n",
      "[8]\tvalid_0's multi_logloss: 0.708915\n",
      "[12]\tvalid_0's multi_logloss: 0.708026\n",
      "[16]\tvalid_0's multi_logloss: 0.707193\n",
      "[20]\tvalid_0's multi_logloss: 0.706439\n",
      "[24]\tvalid_0's multi_logloss: 0.705735\n",
      "[28]\tvalid_0's multi_logloss: 0.705098\n",
      "[32]\tvalid_0's multi_logloss: 0.704487\n",
      "[36]\tvalid_0's multi_logloss: 0.70393\n",
      "[40]\tvalid_0's multi_logloss: 0.703398\n",
      "[44]\tvalid_0's multi_logloss: 0.702898\n",
      "[48]\tvalid_0's multi_logloss: 0.702406\n",
      "[52]\tvalid_0's multi_logloss: 0.701958\n",
      "[56]\tvalid_0's multi_logloss: 0.70153\n",
      "[60]\tvalid_0's multi_logloss: 0.701133\n",
      "[64]\tvalid_0's multi_logloss: 0.700754\n",
      "[68]\tvalid_0's multi_logloss: 0.70038\n",
      "[72]\tvalid_0's multi_logloss: 0.700026\n",
      "[76]\tvalid_0's multi_logloss: 0.699698\n",
      "[80]\tvalid_0's multi_logloss: 0.699395\n",
      "[84]\tvalid_0's multi_logloss: 0.699095\n",
      "[88]\tvalid_0's multi_logloss: 0.698812\n",
      "[92]\tvalid_0's multi_logloss: 0.698541\n",
      "[96]\tvalid_0's multi_logloss: 0.698294\n",
      "[100]\tvalid_0's multi_logloss: 0.698046\n",
      "[104]\tvalid_0's multi_logloss: 0.697815\n",
      "[108]\tvalid_0's multi_logloss: 0.697575\n",
      "[112]\tvalid_0's multi_logloss: 0.697373\n",
      "[116]\tvalid_0's multi_logloss: 0.697161\n",
      "[120]\tvalid_0's multi_logloss: 0.69696\n",
      "[124]\tvalid_0's multi_logloss: 0.696744\n",
      "[128]\tvalid_0's multi_logloss: 0.696574\n",
      "[132]\tvalid_0's multi_logloss: 0.69641\n",
      "[136]\tvalid_0's multi_logloss: 0.696241\n",
      "[140]\tvalid_0's multi_logloss: 0.696097\n",
      "[144]\tvalid_0's multi_logloss: 0.695941\n",
      "[148]\tvalid_0's multi_logloss: 0.695792\n",
      "[152]\tvalid_0's multi_logloss: 0.695645\n",
      "[156]\tvalid_0's multi_logloss: 0.695492\n",
      "[160]\tvalid_0's multi_logloss: 0.695358\n",
      "[164]\tvalid_0's multi_logloss: 0.695233\n",
      "[168]\tvalid_0's multi_logloss: 0.695093\n",
      "[172]\tvalid_0's multi_logloss: 0.694969\n",
      "[176]\tvalid_0's multi_logloss: 0.694851\n",
      "[180]\tvalid_0's multi_logloss: 0.694753\n",
      "[184]\tvalid_0's multi_logloss: 0.694641\n",
      "[188]\tvalid_0's multi_logloss: 0.694534\n",
      "[192]\tvalid_0's multi_logloss: 0.694451\n",
      "[196]\tvalid_0's multi_logloss: 0.694346\n",
      "[200]\tvalid_0's multi_logloss: 0.694242\n",
      "[204]\tvalid_0's multi_logloss: 0.694146\n",
      "[208]\tvalid_0's multi_logloss: 0.694045\n",
      "[212]\tvalid_0's multi_logloss: 0.693965\n",
      "[216]\tvalid_0's multi_logloss: 0.69387\n",
      "[220]\tvalid_0's multi_logloss: 0.693784\n",
      "[224]\tvalid_0's multi_logloss: 0.693697\n",
      "[228]\tvalid_0's multi_logloss: 0.693606\n",
      "[232]\tvalid_0's multi_logloss: 0.693517\n",
      "[236]\tvalid_0's multi_logloss: 0.693432\n",
      "[240]\tvalid_0's multi_logloss: 0.693358\n",
      "[244]\tvalid_0's multi_logloss: 0.693254\n",
      "[248]\tvalid_0's multi_logloss: 0.693185\n",
      "[252]\tvalid_0's multi_logloss: 0.693109\n",
      "[256]\tvalid_0's multi_logloss: 0.693044\n",
      "[260]\tvalid_0's multi_logloss: 0.69298\n",
      "[264]\tvalid_0's multi_logloss: 0.692908\n",
      "[268]\tvalid_0's multi_logloss: 0.692839\n",
      "[272]\tvalid_0's multi_logloss: 0.692769\n",
      "[276]\tvalid_0's multi_logloss: 0.692704\n",
      "[280]\tvalid_0's multi_logloss: 0.692643\n",
      "[284]\tvalid_0's multi_logloss: 0.692591\n",
      "[288]\tvalid_0's multi_logloss: 0.692528\n",
      "[292]\tvalid_0's multi_logloss: 0.692463\n",
      "[296]\tvalid_0's multi_logloss: 0.692406\n",
      "[300]\tvalid_0's multi_logloss: 0.692354\n",
      "[304]\tvalid_0's multi_logloss: 0.692299\n",
      "[308]\tvalid_0's multi_logloss: 0.692221\n",
      "[312]\tvalid_0's multi_logloss: 0.692162\n",
      "[316]\tvalid_0's multi_logloss: 0.692125\n",
      "[320]\tvalid_0's multi_logloss: 0.692076\n",
      "[324]\tvalid_0's multi_logloss: 0.692016\n",
      "[328]\tvalid_0's multi_logloss: 0.691973\n",
      "[332]\tvalid_0's multi_logloss: 0.691913\n",
      "[336]\tvalid_0's multi_logloss: 0.691866\n",
      "[340]\tvalid_0's multi_logloss: 0.691812\n",
      "[344]\tvalid_0's multi_logloss: 0.691754\n",
      "[348]\tvalid_0's multi_logloss: 0.691706\n",
      "[352]\tvalid_0's multi_logloss: 0.691656\n",
      "[356]\tvalid_0's multi_logloss: 0.691621\n",
      "[360]\tvalid_0's multi_logloss: 0.691559\n",
      "[364]\tvalid_0's multi_logloss: 0.691514\n",
      "[368]\tvalid_0's multi_logloss: 0.691478\n",
      "[372]\tvalid_0's multi_logloss: 0.691422\n",
      "[376]\tvalid_0's multi_logloss: 0.691386\n",
      "[380]\tvalid_0's multi_logloss: 0.691359\n",
      "[384]\tvalid_0's multi_logloss: 0.691303\n",
      "[388]\tvalid_0's multi_logloss: 0.691264\n",
      "[392]\tvalid_0's multi_logloss: 0.691223\n",
      "[396]\tvalid_0's multi_logloss: 0.69117\n",
      "[400]\tvalid_0's multi_logloss: 0.69113\n",
      "[404]\tvalid_0's multi_logloss: 0.691106\n",
      "[408]\tvalid_0's multi_logloss: 0.691067\n",
      "[412]\tvalid_0's multi_logloss: 0.691037\n",
      "[416]\tvalid_0's multi_logloss: 0.690997\n",
      "[420]\tvalid_0's multi_logloss: 0.690964\n",
      "[424]\tvalid_0's multi_logloss: 0.690929\n",
      "[428]\tvalid_0's multi_logloss: 0.690887\n",
      "[432]\tvalid_0's multi_logloss: 0.690861\n",
      "[436]\tvalid_0's multi_logloss: 0.690829\n",
      "[440]\tvalid_0's multi_logloss: 0.690796\n",
      "[444]\tvalid_0's multi_logloss: 0.690768\n",
      "[448]\tvalid_0's multi_logloss: 0.690733\n",
      "[452]\tvalid_0's multi_logloss: 0.690708\n",
      "[456]\tvalid_0's multi_logloss: 0.690675\n",
      "[460]\tvalid_0's multi_logloss: 0.690645\n",
      "[464]\tvalid_0's multi_logloss: 0.690628\n",
      "[468]\tvalid_0's multi_logloss: 0.690596\n",
      "[472]\tvalid_0's multi_logloss: 0.690561\n",
      "[476]\tvalid_0's multi_logloss: 0.690527\n",
      "[480]\tvalid_0's multi_logloss: 0.6905\n",
      "[484]\tvalid_0's multi_logloss: 0.690475\n",
      "[488]\tvalid_0's multi_logloss: 0.690442\n",
      "[492]\tvalid_0's multi_logloss: 0.690429\n",
      "[496]\tvalid_0's multi_logloss: 0.690406\n",
      "[500]\tvalid_0's multi_logloss: 0.690379\n",
      "[504]\tvalid_0's multi_logloss: 0.690352\n",
      "[508]\tvalid_0's multi_logloss: 0.690317\n",
      "[512]\tvalid_0's multi_logloss: 0.690287\n",
      "[516]\tvalid_0's multi_logloss: 0.690269\n",
      "[520]\tvalid_0's multi_logloss: 0.690256\n",
      "[524]\tvalid_0's multi_logloss: 0.690231\n",
      "[528]\tvalid_0's multi_logloss: 0.690217\n",
      "[532]\tvalid_0's multi_logloss: 0.690196\n",
      "[536]\tvalid_0's multi_logloss: 0.690178\n",
      "[540]\tvalid_0's multi_logloss: 0.690173\n",
      "[544]\tvalid_0's multi_logloss: 0.690151\n",
      "[548]\tvalid_0's multi_logloss: 0.690112\n",
      "[552]\tvalid_0's multi_logloss: 0.690094\n",
      "[556]\tvalid_0's multi_logloss: 0.690055\n",
      "[560]\tvalid_0's multi_logloss: 0.690032\n",
      "[564]\tvalid_0's multi_logloss: 0.690021\n",
      "[568]\tvalid_0's multi_logloss: 0.689999\n",
      "[572]\tvalid_0's multi_logloss: 0.68998\n",
      "[576]\tvalid_0's multi_logloss: 0.689956\n",
      "[580]\tvalid_0's multi_logloss: 0.689939\n",
      "[584]\tvalid_0's multi_logloss: 0.689912\n",
      "[588]\tvalid_0's multi_logloss: 0.689894\n",
      "[592]\tvalid_0's multi_logloss: 0.689874\n",
      "[596]\tvalid_0's multi_logloss: 0.689865\n",
      "[600]\tvalid_0's multi_logloss: 0.689848\n",
      "[604]\tvalid_0's multi_logloss: 0.689837\n",
      "[608]\tvalid_0's multi_logloss: 0.689821\n",
      "[612]\tvalid_0's multi_logloss: 0.689807\n",
      "[616]\tvalid_0's multi_logloss: 0.689789\n",
      "[620]\tvalid_0's multi_logloss: 0.689775\n",
      "[624]\tvalid_0's multi_logloss: 0.689762\n",
      "[628]\tvalid_0's multi_logloss: 0.689745\n",
      "[632]\tvalid_0's multi_logloss: 0.68973\n",
      "[636]\tvalid_0's multi_logloss: 0.689718\n",
      "[640]\tvalid_0's multi_logloss: 0.689699\n",
      "[644]\tvalid_0's multi_logloss: 0.689685\n",
      "[648]\tvalid_0's multi_logloss: 0.68966\n",
      "[652]\tvalid_0's multi_logloss: 0.689642\n",
      "[656]\tvalid_0's multi_logloss: 0.689639\n",
      "[660]\tvalid_0's multi_logloss: 0.689631\n",
      "[664]\tvalid_0's multi_logloss: 0.689609\n",
      "[668]\tvalid_0's multi_logloss: 0.689602\n",
      "[672]\tvalid_0's multi_logloss: 0.689584\n",
      "[676]\tvalid_0's multi_logloss: 0.689582\n",
      "[680]\tvalid_0's multi_logloss: 0.689562\n",
      "[684]\tvalid_0's multi_logloss: 0.689546\n",
      "[688]\tvalid_0's multi_logloss: 0.689534\n",
      "[692]\tvalid_0's multi_logloss: 0.689527\n",
      "[696]\tvalid_0's multi_logloss: 0.689531\n",
      "Early stopping, best iteration is:\n",
      "[691]\tvalid_0's multi_logloss: 0.689523\n",
      "hit_rate@10: 0.741\n",
      "precision_at_k@10: 0.171\n",
      "recall_at_k@10: 0.199\n",
      "average_precision_at_k@10: 0.439\n",
      "ndcg_at_k@10: 0.211\n"
     ]
    }
   ],
   "source": [
    "koh = KingOfTheHillRecommender()\n",
    "koh.fit(valid_set)\n",
    "koh_prediction = koh.predict(test_set_prepared)\n",
    "evaluate_model(test_set_prepared, koh_prediction)"
   ]
  },
  {
   "cell_type": "code",
   "execution_count": null,
   "metadata": {},
   "outputs": [],
   "source": []
  }
 ],
 "metadata": {
  "kernelspec": {
   "display_name": "Python 3",
   "language": "python",
   "name": "python3"
  },
  "language_info": {
   "codemirror_mode": {
    "name": "ipython",
    "version": 3
   },
   "file_extension": ".py",
   "mimetype": "text/x-python",
   "name": "python",
   "nbconvert_exporter": "python",
   "pygments_lexer": "ipython3",
   "version": "3.8.3-final"
  }
 },
 "nbformat": 4,
 "nbformat_minor": 1
}